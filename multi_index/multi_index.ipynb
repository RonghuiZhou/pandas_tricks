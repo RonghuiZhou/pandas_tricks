{
  "nbformat": 4,
  "nbformat_minor": 0,
  "metadata": {
    "colab": {
      "name": "multiindex.ipynb",
      "provenance": [],
      "collapsed_sections": []
    },
    "kernelspec": {
      "name": "python3",
      "display_name": "Python 3"
    }
  },
  "cells": [
    {
      "cell_type": "code",
      "metadata": {
        "id": "moQ5jwqtOz2X",
        "colab_type": "code",
        "colab": {}
      },
      "source": [
        "import pandas as pd\n",
        "import numpy as np"
      ],
      "execution_count": 0,
      "outputs": []
    },
    {
      "cell_type": "code",
      "metadata": {
        "id": "0evMJC63OPgc",
        "colab_type": "code",
        "colab": {
          "base_uri": "https://localhost:8080/",
          "height": 294
        },
        "outputId": "d00345ba-9bb4-41a6-bddf-d4c781fef355"
      },
      "source": [
        "midx = pd.MultiIndex.from_product([['A0','A1'], ['B0','B1','B2','B3']])\n",
        "columns = ['foo', 'bar']\n",
        "dfmi = pd.DataFrame(np.arange(16).reshape((len(midx), len(columns))),\n",
        "                        index=midx, columns=columns)\n",
        "dfmi"
      ],
      "execution_count": 4,
      "outputs": [
        {
          "output_type": "execute_result",
          "data": {
            "text/html": [
              "<div>\n",
              "<style scoped>\n",
              "    .dataframe tbody tr th:only-of-type {\n",
              "        vertical-align: middle;\n",
              "    }\n",
              "\n",
              "    .dataframe tbody tr th {\n",
              "        vertical-align: top;\n",
              "    }\n",
              "\n",
              "    .dataframe thead th {\n",
              "        text-align: right;\n",
              "    }\n",
              "</style>\n",
              "<table border=\"1\" class=\"dataframe\">\n",
              "  <thead>\n",
              "    <tr style=\"text-align: right;\">\n",
              "      <th></th>\n",
              "      <th></th>\n",
              "      <th>foo</th>\n",
              "      <th>bar</th>\n",
              "    </tr>\n",
              "  </thead>\n",
              "  <tbody>\n",
              "    <tr>\n",
              "      <th rowspan=\"4\" valign=\"top\">A0</th>\n",
              "      <th>B0</th>\n",
              "      <td>0</td>\n",
              "      <td>1</td>\n",
              "    </tr>\n",
              "    <tr>\n",
              "      <th>B1</th>\n",
              "      <td>2</td>\n",
              "      <td>3</td>\n",
              "    </tr>\n",
              "    <tr>\n",
              "      <th>B2</th>\n",
              "      <td>4</td>\n",
              "      <td>5</td>\n",
              "    </tr>\n",
              "    <tr>\n",
              "      <th>B3</th>\n",
              "      <td>6</td>\n",
              "      <td>7</td>\n",
              "    </tr>\n",
              "    <tr>\n",
              "      <th rowspan=\"4\" valign=\"top\">A1</th>\n",
              "      <th>B0</th>\n",
              "      <td>8</td>\n",
              "      <td>9</td>\n",
              "    </tr>\n",
              "    <tr>\n",
              "      <th>B1</th>\n",
              "      <td>10</td>\n",
              "      <td>11</td>\n",
              "    </tr>\n",
              "    <tr>\n",
              "      <th>B2</th>\n",
              "      <td>12</td>\n",
              "      <td>13</td>\n",
              "    </tr>\n",
              "    <tr>\n",
              "      <th>B3</th>\n",
              "      <td>14</td>\n",
              "      <td>15</td>\n",
              "    </tr>\n",
              "  </tbody>\n",
              "</table>\n",
              "</div>"
            ],
            "text/plain": [
              "       foo  bar\n",
              "A0 B0    0    1\n",
              "   B1    2    3\n",
              "   B2    4    5\n",
              "   B3    6    7\n",
              "A1 B0    8    9\n",
              "   B1   10   11\n",
              "   B2   12   13\n",
              "   B3   14   15"
            ]
          },
          "metadata": {
            "tags": []
          },
          "execution_count": 4
        }
      ]
    },
    {
      "cell_type": "code",
      "metadata": {
        "id": "1UPLlcr2PBSY",
        "colab_type": "code",
        "colab": {
          "base_uri": "https://localhost:8080/",
          "height": 171
        },
        "outputId": "d0432413-f38c-483e-9343-642f2b811989"
      },
      "source": [
        "idx = pd.IndexSlice\n",
        "dfmi.loc[idx[:, 'B0':'B1'], :]"
      ],
      "execution_count": 5,
      "outputs": [
        {
          "output_type": "execute_result",
          "data": {
            "text/html": [
              "<div>\n",
              "<style scoped>\n",
              "    .dataframe tbody tr th:only-of-type {\n",
              "        vertical-align: middle;\n",
              "    }\n",
              "\n",
              "    .dataframe tbody tr th {\n",
              "        vertical-align: top;\n",
              "    }\n",
              "\n",
              "    .dataframe thead th {\n",
              "        text-align: right;\n",
              "    }\n",
              "</style>\n",
              "<table border=\"1\" class=\"dataframe\">\n",
              "  <thead>\n",
              "    <tr style=\"text-align: right;\">\n",
              "      <th></th>\n",
              "      <th></th>\n",
              "      <th>foo</th>\n",
              "      <th>bar</th>\n",
              "    </tr>\n",
              "  </thead>\n",
              "  <tbody>\n",
              "    <tr>\n",
              "      <th rowspan=\"2\" valign=\"top\">A0</th>\n",
              "      <th>B0</th>\n",
              "      <td>0</td>\n",
              "      <td>1</td>\n",
              "    </tr>\n",
              "    <tr>\n",
              "      <th>B1</th>\n",
              "      <td>2</td>\n",
              "      <td>3</td>\n",
              "    </tr>\n",
              "    <tr>\n",
              "      <th rowspan=\"2\" valign=\"top\">A1</th>\n",
              "      <th>B0</th>\n",
              "      <td>8</td>\n",
              "      <td>9</td>\n",
              "    </tr>\n",
              "    <tr>\n",
              "      <th>B1</th>\n",
              "      <td>10</td>\n",
              "      <td>11</td>\n",
              "    </tr>\n",
              "  </tbody>\n",
              "</table>\n",
              "</div>"
            ],
            "text/plain": [
              "       foo  bar\n",
              "A0 B0    0    1\n",
              "   B1    2    3\n",
              "A1 B0    8    9\n",
              "   B1   10   11"
            ]
          },
          "metadata": {
            "tags": []
          },
          "execution_count": 5
        }
      ]
    },
    {
      "cell_type": "code",
      "metadata": {
        "id": "FOJcNUZ7PG7v",
        "colab_type": "code",
        "colab": {
          "base_uri": "https://localhost:8080/",
          "height": 171
        },
        "outputId": "bfbfe329-a15a-46b4-d881-dd75e641d8cc"
      },
      "source": [
        "dfmi.loc[idx['A0', :], :]"
      ],
      "execution_count": 7,
      "outputs": [
        {
          "output_type": "execute_result",
          "data": {
            "text/html": [
              "<div>\n",
              "<style scoped>\n",
              "    .dataframe tbody tr th:only-of-type {\n",
              "        vertical-align: middle;\n",
              "    }\n",
              "\n",
              "    .dataframe tbody tr th {\n",
              "        vertical-align: top;\n",
              "    }\n",
              "\n",
              "    .dataframe thead th {\n",
              "        text-align: right;\n",
              "    }\n",
              "</style>\n",
              "<table border=\"1\" class=\"dataframe\">\n",
              "  <thead>\n",
              "    <tr style=\"text-align: right;\">\n",
              "      <th></th>\n",
              "      <th></th>\n",
              "      <th>foo</th>\n",
              "      <th>bar</th>\n",
              "    </tr>\n",
              "  </thead>\n",
              "  <tbody>\n",
              "    <tr>\n",
              "      <th rowspan=\"4\" valign=\"top\">A0</th>\n",
              "      <th>B0</th>\n",
              "      <td>0</td>\n",
              "      <td>1</td>\n",
              "    </tr>\n",
              "    <tr>\n",
              "      <th>B1</th>\n",
              "      <td>2</td>\n",
              "      <td>3</td>\n",
              "    </tr>\n",
              "    <tr>\n",
              "      <th>B2</th>\n",
              "      <td>4</td>\n",
              "      <td>5</td>\n",
              "    </tr>\n",
              "    <tr>\n",
              "      <th>B3</th>\n",
              "      <td>6</td>\n",
              "      <td>7</td>\n",
              "    </tr>\n",
              "  </tbody>\n",
              "</table>\n",
              "</div>"
            ],
            "text/plain": [
              "       foo  bar\n",
              "A0 B0    0    1\n",
              "   B1    2    3\n",
              "   B2    4    5\n",
              "   B3    6    7"
            ]
          },
          "metadata": {
            "tags": []
          },
          "execution_count": 7
        }
      ]
    },
    {
      "cell_type": "code",
      "metadata": {
        "id": "A_tCSHMYRzVg",
        "colab_type": "code",
        "colab": {
          "base_uri": "https://localhost:8080/",
          "height": 202
        },
        "outputId": "468ecc48-c328-4eaa-9cef-ed16b16144ed"
      },
      "source": [
        "df=pd.read_excel('/content/drive/My Drive/Data/LCMS 422201.xlsx', parse_dates=['Start Date'], usecols=['User Name', 'Start Date', 'Completed Date', 'Job ID'])\n",
        "df.head()"
      ],
      "execution_count": 32,
      "outputs": [
        {
          "output_type": "execute_result",
          "data": {
            "text/html": [
              "<div>\n",
              "<style scoped>\n",
              "    .dataframe tbody tr th:only-of-type {\n",
              "        vertical-align: middle;\n",
              "    }\n",
              "\n",
              "    .dataframe tbody tr th {\n",
              "        vertical-align: top;\n",
              "    }\n",
              "\n",
              "    .dataframe thead th {\n",
              "        text-align: right;\n",
              "    }\n",
              "</style>\n",
              "<table border=\"1\" class=\"dataframe\">\n",
              "  <thead>\n",
              "    <tr style=\"text-align: right;\">\n",
              "      <th></th>\n",
              "      <th>Job ID</th>\n",
              "      <th>User Name</th>\n",
              "      <th>Start Date</th>\n",
              "      <th>Completed Date</th>\n",
              "    </tr>\n",
              "  </thead>\n",
              "  <tbody>\n",
              "    <tr>\n",
              "      <th>0</th>\n",
              "      <td>12-09-19 14-26-01.165</td>\n",
              "      <td>chemist</td>\n",
              "      <td>2019-12-09 14:26:04.089</td>\n",
              "      <td>2019-12-09 14:29:13.668</td>\n",
              "    </tr>\n",
              "    <tr>\n",
              "      <th>1</th>\n",
              "      <td>12-09-19 13-58-41.686</td>\n",
              "      <td>chemist</td>\n",
              "      <td>2019-12-09 13:59:48.082</td>\n",
              "      <td>2019-12-09 14:04:47.193</td>\n",
              "    </tr>\n",
              "    <tr>\n",
              "      <th>2</th>\n",
              "      <td>12-02-19 16-31-45.140</td>\n",
              "      <td>chemist</td>\n",
              "      <td>2019-12-02 16:33:02.160</td>\n",
              "      <td>2019-12-02 16:38:58.392</td>\n",
              "    </tr>\n",
              "    <tr>\n",
              "      <th>3</th>\n",
              "      <td>12-02-19 11-04-49.133</td>\n",
              "      <td>chemist</td>\n",
              "      <td>2019-12-02 11:07:56.333</td>\n",
              "      <td>2019-12-02 11:12:55.243</td>\n",
              "    </tr>\n",
              "    <tr>\n",
              "      <th>4</th>\n",
              "      <td>12-02-19 10-56-46.217</td>\n",
              "      <td>chemist</td>\n",
              "      <td>2019-12-02 11:02:56.866</td>\n",
              "      <td>2019-12-02 11:07:55.843</td>\n",
              "    </tr>\n",
              "  </tbody>\n",
              "</table>\n",
              "</div>"
            ],
            "text/plain": [
              "                  Job ID  ...          Completed Date\n",
              "0  12-09-19 14-26-01.165  ... 2019-12-09 14:29:13.668\n",
              "1  12-09-19 13-58-41.686  ... 2019-12-09 14:04:47.193\n",
              "2  12-02-19 16-31-45.140  ... 2019-12-02 16:38:58.392\n",
              "3  12-02-19 11-04-49.133  ... 2019-12-02 11:12:55.243\n",
              "4  12-02-19 10-56-46.217  ... 2019-12-02 11:07:55.843\n",
              "\n",
              "[5 rows x 4 columns]"
            ]
          },
          "metadata": {
            "tags": []
          },
          "execution_count": 32
        }
      ]
    },
    {
      "cell_type": "code",
      "metadata": {
        "id": "bix14uNBbpVn",
        "colab_type": "code",
        "colab": {
          "base_uri": "https://localhost:8080/",
          "height": 202
        },
        "outputId": "7af78132-f651-4a45-8048-582258bdc82e"
      },
      "source": [
        "df['Start Date'] = df['Start Date'].apply(lambda x: x.strftime('%Y-%m-%d'))\n",
        "\n",
        "df.head()"
      ],
      "execution_count": 35,
      "outputs": [
        {
          "output_type": "execute_result",
          "data": {
            "text/html": [
              "<div>\n",
              "<style scoped>\n",
              "    .dataframe tbody tr th:only-of-type {\n",
              "        vertical-align: middle;\n",
              "    }\n",
              "\n",
              "    .dataframe tbody tr th {\n",
              "        vertical-align: top;\n",
              "    }\n",
              "\n",
              "    .dataframe thead th {\n",
              "        text-align: right;\n",
              "    }\n",
              "</style>\n",
              "<table border=\"1\" class=\"dataframe\">\n",
              "  <thead>\n",
              "    <tr style=\"text-align: right;\">\n",
              "      <th></th>\n",
              "      <th>Job ID</th>\n",
              "      <th>User Name</th>\n",
              "      <th>Start Date</th>\n",
              "      <th>Completed Date</th>\n",
              "    </tr>\n",
              "  </thead>\n",
              "  <tbody>\n",
              "    <tr>\n",
              "      <th>0</th>\n",
              "      <td>12-09-19 14-26-01.165</td>\n",
              "      <td>chemist</td>\n",
              "      <td>2019-12-09</td>\n",
              "      <td>2019-12-09 14:29:13.668</td>\n",
              "    </tr>\n",
              "    <tr>\n",
              "      <th>1</th>\n",
              "      <td>12-09-19 13-58-41.686</td>\n",
              "      <td>chemist</td>\n",
              "      <td>2019-12-09</td>\n",
              "      <td>2019-12-09 14:04:47.193</td>\n",
              "    </tr>\n",
              "    <tr>\n",
              "      <th>2</th>\n",
              "      <td>12-02-19 16-31-45.140</td>\n",
              "      <td>chemist</td>\n",
              "      <td>2019-12-02</td>\n",
              "      <td>2019-12-02 16:38:58.392</td>\n",
              "    </tr>\n",
              "    <tr>\n",
              "      <th>3</th>\n",
              "      <td>12-02-19 11-04-49.133</td>\n",
              "      <td>chemist</td>\n",
              "      <td>2019-12-02</td>\n",
              "      <td>2019-12-02 11:12:55.243</td>\n",
              "    </tr>\n",
              "    <tr>\n",
              "      <th>4</th>\n",
              "      <td>12-02-19 10-56-46.217</td>\n",
              "      <td>chemist</td>\n",
              "      <td>2019-12-02</td>\n",
              "      <td>2019-12-02 11:07:55.843</td>\n",
              "    </tr>\n",
              "  </tbody>\n",
              "</table>\n",
              "</div>"
            ],
            "text/plain": [
              "                  Job ID User Name  Start Date          Completed Date\n",
              "0  12-09-19 14-26-01.165   chemist  2019-12-09 2019-12-09 14:29:13.668\n",
              "1  12-09-19 13-58-41.686   chemist  2019-12-09 2019-12-09 14:04:47.193\n",
              "2  12-02-19 16-31-45.140   chemist  2019-12-02 2019-12-02 16:38:58.392\n",
              "3  12-02-19 11-04-49.133   chemist  2019-12-02 2019-12-02 11:12:55.243\n",
              "4  12-02-19 10-56-46.217   chemist  2019-12-02 2019-12-02 11:07:55.843"
            ]
          },
          "metadata": {
            "tags": []
          },
          "execution_count": 35
        }
      ]
    },
    {
      "cell_type": "code",
      "metadata": {
        "id": "7WzZIqbtS6kf",
        "colab_type": "code",
        "colab": {
          "base_uri": "https://localhost:8080/",
          "height": 233
        },
        "outputId": "2e03954e-95fc-4f11-a296-9d79d32624d0"
      },
      "source": [
        "df.set_index(['Start Date', 'User Name'], inplace=True)\n",
        "df.head()"
      ],
      "execution_count": 36,
      "outputs": [
        {
          "output_type": "execute_result",
          "data": {
            "text/html": [
              "<div>\n",
              "<style scoped>\n",
              "    .dataframe tbody tr th:only-of-type {\n",
              "        vertical-align: middle;\n",
              "    }\n",
              "\n",
              "    .dataframe tbody tr th {\n",
              "        vertical-align: top;\n",
              "    }\n",
              "\n",
              "    .dataframe thead th {\n",
              "        text-align: right;\n",
              "    }\n",
              "</style>\n",
              "<table border=\"1\" class=\"dataframe\">\n",
              "  <thead>\n",
              "    <tr style=\"text-align: right;\">\n",
              "      <th></th>\n",
              "      <th></th>\n",
              "      <th>Job ID</th>\n",
              "      <th>Completed Date</th>\n",
              "    </tr>\n",
              "    <tr>\n",
              "      <th>Start Date</th>\n",
              "      <th>User Name</th>\n",
              "      <th></th>\n",
              "      <th></th>\n",
              "    </tr>\n",
              "  </thead>\n",
              "  <tbody>\n",
              "    <tr>\n",
              "      <th rowspan=\"2\" valign=\"top\">2019-12-09</th>\n",
              "      <th>chemist</th>\n",
              "      <td>12-09-19 14-26-01.165</td>\n",
              "      <td>2019-12-09 14:29:13.668</td>\n",
              "    </tr>\n",
              "    <tr>\n",
              "      <th>chemist</th>\n",
              "      <td>12-09-19 13-58-41.686</td>\n",
              "      <td>2019-12-09 14:04:47.193</td>\n",
              "    </tr>\n",
              "    <tr>\n",
              "      <th rowspan=\"3\" valign=\"top\">2019-12-02</th>\n",
              "      <th>chemist</th>\n",
              "      <td>12-02-19 16-31-45.140</td>\n",
              "      <td>2019-12-02 16:38:58.392</td>\n",
              "    </tr>\n",
              "    <tr>\n",
              "      <th>chemist</th>\n",
              "      <td>12-02-19 11-04-49.133</td>\n",
              "      <td>2019-12-02 11:12:55.243</td>\n",
              "    </tr>\n",
              "    <tr>\n",
              "      <th>chemist</th>\n",
              "      <td>12-02-19 10-56-46.217</td>\n",
              "      <td>2019-12-02 11:07:55.843</td>\n",
              "    </tr>\n",
              "  </tbody>\n",
              "</table>\n",
              "</div>"
            ],
            "text/plain": [
              "                                     Job ID          Completed Date\n",
              "Start Date User Name                                               \n",
              "2019-12-09 chemist    12-09-19 14-26-01.165 2019-12-09 14:29:13.668\n",
              "           chemist    12-09-19 13-58-41.686 2019-12-09 14:04:47.193\n",
              "2019-12-02 chemist    12-02-19 16-31-45.140 2019-12-02 16:38:58.392\n",
              "           chemist    12-02-19 11-04-49.133 2019-12-02 11:12:55.243\n",
              "           chemist    12-02-19 10-56-46.217 2019-12-02 11:07:55.843"
            ]
          },
          "metadata": {
            "tags": []
          },
          "execution_count": 36
        }
      ]
    },
    {
      "cell_type": "code",
      "metadata": {
        "id": "NbsRTz4FTTHH",
        "colab_type": "code",
        "colab": {
          "base_uri": "https://localhost:8080/",
          "height": 233
        },
        "outputId": "6364040f-30ff-4019-f34f-0be9f801bbaa"
      },
      "source": [
        "df.sort_index(inplace=True)\n",
        "df.head()"
      ],
      "execution_count": 45,
      "outputs": [
        {
          "output_type": "execute_result",
          "data": {
            "text/html": [
              "<div>\n",
              "<style scoped>\n",
              "    .dataframe tbody tr th:only-of-type {\n",
              "        vertical-align: middle;\n",
              "    }\n",
              "\n",
              "    .dataframe tbody tr th {\n",
              "        vertical-align: top;\n",
              "    }\n",
              "\n",
              "    .dataframe thead th {\n",
              "        text-align: right;\n",
              "    }\n",
              "</style>\n",
              "<table border=\"1\" class=\"dataframe\">\n",
              "  <thead>\n",
              "    <tr style=\"text-align: right;\">\n",
              "      <th></th>\n",
              "      <th></th>\n",
              "      <th>Job ID</th>\n",
              "      <th>Completed Date</th>\n",
              "    </tr>\n",
              "    <tr>\n",
              "      <th>Start Date</th>\n",
              "      <th>User Name</th>\n",
              "      <th></th>\n",
              "      <th></th>\n",
              "    </tr>\n",
              "  </thead>\n",
              "  <tbody>\n",
              "    <tr>\n",
              "      <th rowspan=\"3\" valign=\"top\">2019-11-18</th>\n",
              "      <th>mwall2</th>\n",
              "      <td>11-18-19 17-02-29.537</td>\n",
              "      <td>2019-11-18 17:07:36.341</td>\n",
              "    </tr>\n",
              "    <tr>\n",
              "      <th>mwall2</th>\n",
              "      <td>11-18-19 16-54-47.168</td>\n",
              "      <td>2019-11-18 16:59:49.367</td>\n",
              "    </tr>\n",
              "    <tr>\n",
              "      <th>mwall2</th>\n",
              "      <td>11-18-19 16-40-47.234</td>\n",
              "      <td>2019-11-18 16:48:37.878</td>\n",
              "    </tr>\n",
              "    <tr>\n",
              "      <th rowspan=\"2\" valign=\"top\">2019-11-19</th>\n",
              "      <th>chemist</th>\n",
              "      <td>11-19-19 14-11-16.839</td>\n",
              "      <td>2019-11-19 14:18:20.739</td>\n",
              "    </tr>\n",
              "    <tr>\n",
              "      <th>chemist</th>\n",
              "      <td>11-19-19 14-06-18.612</td>\n",
              "      <td>2019-11-19 14:13:24.909</td>\n",
              "    </tr>\n",
              "  </tbody>\n",
              "</table>\n",
              "</div>"
            ],
            "text/plain": [
              "                                     Job ID          Completed Date\n",
              "Start Date User Name                                               \n",
              "2019-11-18 mwall2     11-18-19 17-02-29.537 2019-11-18 17:07:36.341\n",
              "           mwall2     11-18-19 16-54-47.168 2019-11-18 16:59:49.367\n",
              "           mwall2     11-18-19 16-40-47.234 2019-11-18 16:48:37.878\n",
              "2019-11-19 chemist    11-19-19 14-11-16.839 2019-11-19 14:18:20.739\n",
              "           chemist    11-19-19 14-06-18.612 2019-11-19 14:13:24.909"
            ]
          },
          "metadata": {
            "tags": []
          },
          "execution_count": 45
        }
      ]
    },
    {
      "cell_type": "code",
      "metadata": {
        "id": "2xoX2ug4cbBq",
        "colab_type": "code",
        "colab": {
          "base_uri": "https://localhost:8080/",
          "height": 35
        },
        "outputId": "c11a41e8-a682-49e4-dc31-451bbb43ac90"
      },
      "source": [
        "idx=df.index.get_level_values(0)\n",
        "idx = sorted(list(set(idx)))[:3]\n",
        "idx"
      ],
      "execution_count": 53,
      "outputs": [
        {
          "output_type": "execute_result",
          "data": {
            "text/plain": [
              "['2019-11-18', '2019-11-19', '2019-11-20']"
            ]
          },
          "metadata": {
            "tags": []
          },
          "execution_count": 53
        }
      ]
    },
    {
      "cell_type": "code",
      "metadata": {
        "id": "UhtOVHK6T2HN",
        "colab_type": "code",
        "colab": {
          "base_uri": "https://localhost:8080/",
          "height": 325
        },
        "outputId": "b352cba5-6c0a-4d19-f948-0d07c73d84c0"
      },
      "source": [
        "df.loc[idx]"
      ],
      "execution_count": 54,
      "outputs": [
        {
          "output_type": "execute_result",
          "data": {
            "text/html": [
              "<div>\n",
              "<style scoped>\n",
              "    .dataframe tbody tr th:only-of-type {\n",
              "        vertical-align: middle;\n",
              "    }\n",
              "\n",
              "    .dataframe tbody tr th {\n",
              "        vertical-align: top;\n",
              "    }\n",
              "\n",
              "    .dataframe thead th {\n",
              "        text-align: right;\n",
              "    }\n",
              "</style>\n",
              "<table border=\"1\" class=\"dataframe\">\n",
              "  <thead>\n",
              "    <tr style=\"text-align: right;\">\n",
              "      <th></th>\n",
              "      <th></th>\n",
              "      <th>Job ID</th>\n",
              "      <th>Completed Date</th>\n",
              "    </tr>\n",
              "    <tr>\n",
              "      <th>Start Date</th>\n",
              "      <th>User Name</th>\n",
              "      <th></th>\n",
              "      <th></th>\n",
              "    </tr>\n",
              "  </thead>\n",
              "  <tbody>\n",
              "    <tr>\n",
              "      <th rowspan=\"3\" valign=\"top\">2019-11-18</th>\n",
              "      <th>mwall2</th>\n",
              "      <td>11-18-19 17-02-29.537</td>\n",
              "      <td>2019-11-18 17:07:36.341</td>\n",
              "    </tr>\n",
              "    <tr>\n",
              "      <th>mwall2</th>\n",
              "      <td>11-18-19 16-54-47.168</td>\n",
              "      <td>2019-11-18 16:59:49.367</td>\n",
              "    </tr>\n",
              "    <tr>\n",
              "      <th>mwall2</th>\n",
              "      <td>11-18-19 16-40-47.234</td>\n",
              "      <td>2019-11-18 16:48:37.878</td>\n",
              "    </tr>\n",
              "    <tr>\n",
              "      <th rowspan=\"2\" valign=\"top\">2019-11-19</th>\n",
              "      <th>chemist</th>\n",
              "      <td>11-19-19 14-11-16.839</td>\n",
              "      <td>2019-11-19 14:18:20.739</td>\n",
              "    </tr>\n",
              "    <tr>\n",
              "      <th>chemist</th>\n",
              "      <td>11-19-19 14-06-18.612</td>\n",
              "      <td>2019-11-19 14:13:24.909</td>\n",
              "    </tr>\n",
              "    <tr>\n",
              "      <th rowspan=\"3\" valign=\"top\">2019-11-20</th>\n",
              "      <th>chemist</th>\n",
              "      <td>11-20-19 16-34-56.723</td>\n",
              "      <td>2019-11-20 16:46:04.750</td>\n",
              "    </tr>\n",
              "    <tr>\n",
              "      <th>chemist</th>\n",
              "      <td>11-20-19 16-10-46.263</td>\n",
              "      <td>2019-11-20 16:29:42.666</td>\n",
              "    </tr>\n",
              "    <tr>\n",
              "      <th>chemist</th>\n",
              "      <td>11-20-19 16-05-22.629</td>\n",
              "      <td>2019-11-20 16:18:37.673</td>\n",
              "    </tr>\n",
              "  </tbody>\n",
              "</table>\n",
              "</div>"
            ],
            "text/plain": [
              "                                     Job ID          Completed Date\n",
              "Start Date User Name                                               \n",
              "2019-11-18 mwall2     11-18-19 17-02-29.537 2019-11-18 17:07:36.341\n",
              "           mwall2     11-18-19 16-54-47.168 2019-11-18 16:59:49.367\n",
              "           mwall2     11-18-19 16-40-47.234 2019-11-18 16:48:37.878\n",
              "2019-11-19 chemist    11-19-19 14-11-16.839 2019-11-19 14:18:20.739\n",
              "           chemist    11-19-19 14-06-18.612 2019-11-19 14:13:24.909\n",
              "2019-11-20 chemist    11-20-19 16-34-56.723 2019-11-20 16:46:04.750\n",
              "           chemist    11-20-19 16-10-46.263 2019-11-20 16:29:42.666\n",
              "           chemist    11-20-19 16-05-22.629 2019-11-20 16:18:37.673"
            ]
          },
          "metadata": {
            "tags": []
          },
          "execution_count": 54
        }
      ]
    },
    {
      "cell_type": "code",
      "metadata": {
        "id": "TdnxtdyadIkq",
        "colab_type": "code",
        "colab": {
          "base_uri": "https://localhost:8080/",
          "height": 35
        },
        "outputId": "58d03d9c-2214-4739-c280-2999174805d7"
      },
      "source": [
        "df.shape\n"
      ],
      "execution_count": 49,
      "outputs": [
        {
          "output_type": "execute_result",
          "data": {
            "text/plain": [
              "(37, 2)"
            ]
          },
          "metadata": {
            "tags": []
          },
          "execution_count": 49
        }
      ]
    },
    {
      "cell_type": "code",
      "metadata": {
        "id": "u6lnWjMad5G0",
        "colab_type": "code",
        "colab": {
          "base_uri": "https://localhost:8080/",
          "height": 233
        },
        "outputId": "ae4818e5-6c48-4ca9-ef1f-7078dc09a5e9"
      },
      "source": [
        "df.head()\n"
      ],
      "execution_count": 50,
      "outputs": [
        {
          "output_type": "execute_result",
          "data": {
            "text/html": [
              "<div>\n",
              "<style scoped>\n",
              "    .dataframe tbody tr th:only-of-type {\n",
              "        vertical-align: middle;\n",
              "    }\n",
              "\n",
              "    .dataframe tbody tr th {\n",
              "        vertical-align: top;\n",
              "    }\n",
              "\n",
              "    .dataframe thead th {\n",
              "        text-align: right;\n",
              "    }\n",
              "</style>\n",
              "<table border=\"1\" class=\"dataframe\">\n",
              "  <thead>\n",
              "    <tr style=\"text-align: right;\">\n",
              "      <th></th>\n",
              "      <th></th>\n",
              "      <th>Job ID</th>\n",
              "      <th>Completed Date</th>\n",
              "    </tr>\n",
              "    <tr>\n",
              "      <th>Start Date</th>\n",
              "      <th>User Name</th>\n",
              "      <th></th>\n",
              "      <th></th>\n",
              "    </tr>\n",
              "  </thead>\n",
              "  <tbody>\n",
              "    <tr>\n",
              "      <th rowspan=\"3\" valign=\"top\">2019-11-18</th>\n",
              "      <th>mwall2</th>\n",
              "      <td>11-18-19 17-02-29.537</td>\n",
              "      <td>2019-11-18 17:07:36.341</td>\n",
              "    </tr>\n",
              "    <tr>\n",
              "      <th>mwall2</th>\n",
              "      <td>11-18-19 16-54-47.168</td>\n",
              "      <td>2019-11-18 16:59:49.367</td>\n",
              "    </tr>\n",
              "    <tr>\n",
              "      <th>mwall2</th>\n",
              "      <td>11-18-19 16-40-47.234</td>\n",
              "      <td>2019-11-18 16:48:37.878</td>\n",
              "    </tr>\n",
              "    <tr>\n",
              "      <th rowspan=\"2\" valign=\"top\">2019-11-19</th>\n",
              "      <th>chemist</th>\n",
              "      <td>11-19-19 14-11-16.839</td>\n",
              "      <td>2019-11-19 14:18:20.739</td>\n",
              "    </tr>\n",
              "    <tr>\n",
              "      <th>chemist</th>\n",
              "      <td>11-19-19 14-06-18.612</td>\n",
              "      <td>2019-11-19 14:13:24.909</td>\n",
              "    </tr>\n",
              "  </tbody>\n",
              "</table>\n",
              "</div>"
            ],
            "text/plain": [
              "                                     Job ID          Completed Date\n",
              "Start Date User Name                                               \n",
              "2019-11-18 mwall2     11-18-19 17-02-29.537 2019-11-18 17:07:36.341\n",
              "           mwall2     11-18-19 16-54-47.168 2019-11-18 16:59:49.367\n",
              "           mwall2     11-18-19 16-40-47.234 2019-11-18 16:48:37.878\n",
              "2019-11-19 chemist    11-19-19 14-11-16.839 2019-11-19 14:18:20.739\n",
              "           chemist    11-19-19 14-06-18.612 2019-11-19 14:13:24.909"
            ]
          },
          "metadata": {
            "tags": []
          },
          "execution_count": 50
        }
      ]
    },
    {
      "cell_type": "code",
      "metadata": {
        "id": "zCaF0Em2d6FJ",
        "colab_type": "code",
        "colab": {
          "base_uri": "https://localhost:8080/",
          "height": 35
        },
        "outputId": "65f33774-f92c-491c-808d-87114f934625"
      },
      "source": [
        "df.shape[0]"
      ],
      "execution_count": 51,
      "outputs": [
        {
          "output_type": "execute_result",
          "data": {
            "text/plain": [
              "37"
            ]
          },
          "metadata": {
            "tags": []
          },
          "execution_count": 51
        }
      ]
    },
    {
      "cell_type": "code",
      "metadata": {
        "id": "a_wO4ghSeB8p",
        "colab_type": "code",
        "colab": {
          "base_uri": "https://localhost:8080/",
          "height": 141
        },
        "outputId": "9d74aac3-9ed8-4225-ee2d-6571e59871d5"
      },
      "source": [
        "df.iloc[:2]"
      ],
      "execution_count": 52,
      "outputs": [
        {
          "output_type": "execute_result",
          "data": {
            "text/html": [
              "<div>\n",
              "<style scoped>\n",
              "    .dataframe tbody tr th:only-of-type {\n",
              "        vertical-align: middle;\n",
              "    }\n",
              "\n",
              "    .dataframe tbody tr th {\n",
              "        vertical-align: top;\n",
              "    }\n",
              "\n",
              "    .dataframe thead th {\n",
              "        text-align: right;\n",
              "    }\n",
              "</style>\n",
              "<table border=\"1\" class=\"dataframe\">\n",
              "  <thead>\n",
              "    <tr style=\"text-align: right;\">\n",
              "      <th></th>\n",
              "      <th></th>\n",
              "      <th>Job ID</th>\n",
              "      <th>Completed Date</th>\n",
              "    </tr>\n",
              "    <tr>\n",
              "      <th>Start Date</th>\n",
              "      <th>User Name</th>\n",
              "      <th></th>\n",
              "      <th></th>\n",
              "    </tr>\n",
              "  </thead>\n",
              "  <tbody>\n",
              "    <tr>\n",
              "      <th rowspan=\"2\" valign=\"top\">2019-11-18</th>\n",
              "      <th>mwall2</th>\n",
              "      <td>11-18-19 17-02-29.537</td>\n",
              "      <td>2019-11-18 17:07:36.341</td>\n",
              "    </tr>\n",
              "    <tr>\n",
              "      <th>mwall2</th>\n",
              "      <td>11-18-19 16-54-47.168</td>\n",
              "      <td>2019-11-18 16:59:49.367</td>\n",
              "    </tr>\n",
              "  </tbody>\n",
              "</table>\n",
              "</div>"
            ],
            "text/plain": [
              "                                     Job ID          Completed Date\n",
              "Start Date User Name                                               \n",
              "2019-11-18 mwall2     11-18-19 17-02-29.537 2019-11-18 17:07:36.341\n",
              "           mwall2     11-18-19 16-54-47.168 2019-11-18 16:59:49.367"
            ]
          },
          "metadata": {
            "tags": []
          },
          "execution_count": 52
        }
      ]
    }
  ]
}